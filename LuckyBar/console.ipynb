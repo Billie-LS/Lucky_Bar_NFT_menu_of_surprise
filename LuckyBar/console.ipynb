{
 "cells": [
  {
   "cell_type": "code",
   "execution_count": 1,
   "id": "0b4d0b0a-7f29-4b28-918b-0ceead211852",
   "metadata": {},
   "outputs": [
    {
     "name": "stdout",
     "output_type": "stream",
     "text": [
      "Library imported\n"
     ]
    }
   ],
   "source": [
    "# This Jupyter Notebook file is created for testing purpose\n",
    "import nft\n",
    "\n",
    "print('Library imported')"
   ]
  },
  {
   "cell_type": "code",
   "execution_count": 2,
   "id": "5bff1c60",
   "metadata": {},
   "outputs": [
    {
     "data": {
      "text/plain": [
       "'https://image.cnbcfm.com/api/v1/image/107185252-16748408932023-01-27t172914z_1524906120_rc24zy96gcgv_rtrmadp_0_tesla-musk.jpeg'"
      ]
     },
     "execution_count": 2,
     "metadata": {},
     "output_type": "execute_result"
    }
   ],
   "source": [
    "nft.nft_uri(1)"
   ]
  },
  {
   "cell_type": "code",
   "execution_count": 3,
   "id": "72c1e6b2",
   "metadata": {},
   "outputs": [
    {
     "data": {
      "text/html": [
       "<div>\n",
       "<style scoped>\n",
       "    .dataframe tbody tr th:only-of-type {\n",
       "        vertical-align: middle;\n",
       "    }\n",
       "\n",
       "    .dataframe tbody tr th {\n",
       "        vertical-align: top;\n",
       "    }\n",
       "\n",
       "    .dataframe thead th {\n",
       "        text-align: right;\n",
       "    }\n",
       "</style>\n",
       "<table border=\"1\" class=\"dataframe\">\n",
       "  <thead>\n",
       "    <tr style=\"text-align: right;\">\n",
       "      <th></th>\n",
       "      <th>nft_id</th>\n",
       "      <th>nft_uri</th>\n",
       "    </tr>\n",
       "  </thead>\n",
       "  <tbody>\n",
       "    <tr>\n",
       "      <th>0</th>\n",
       "      <td>1</td>\n",
       "      <td>https://image.cnbcfm.com/api/v1/image/10718525...</td>\n",
       "    </tr>\n",
       "    <tr>\n",
       "      <th>1</th>\n",
       "      <td>2</td>\n",
       "      <td>https://image.cnbcfm.com/api/v1/image/10718442...</td>\n",
       "    </tr>\n",
       "    <tr>\n",
       "      <th>2</th>\n",
       "      <td>3</td>\n",
       "      <td>https://image.cnbcfm.com/api/v1/image/10681131...</td>\n",
       "    </tr>\n",
       "    <tr>\n",
       "      <th>3</th>\n",
       "      <td>4</td>\n",
       "      <td>https://image.cnbcfm.com/api/v1/image/10705701...</td>\n",
       "    </tr>\n",
       "    <tr>\n",
       "      <th>4</th>\n",
       "      <td>5</td>\n",
       "      <td>https://image.cnbcfm.com/api/v1/image/10718814...</td>\n",
       "    </tr>\n",
       "  </tbody>\n",
       "</table>\n",
       "</div>"
      ],
      "text/plain": [
       "   nft_id                                            nft_uri\n",
       "0       1  https://image.cnbcfm.com/api/v1/image/10718525...\n",
       "1       2  https://image.cnbcfm.com/api/v1/image/10718442...\n",
       "2       3  https://image.cnbcfm.com/api/v1/image/10681131...\n",
       "3       4  https://image.cnbcfm.com/api/v1/image/10705701...\n",
       "4       5  https://image.cnbcfm.com/api/v1/image/10718814..."
      ]
     },
     "execution_count": 3,
     "metadata": {},
     "output_type": "execute_result"
    }
   ],
   "source": [
    "df = nft.nft_df()\n",
    "df.head()"
   ]
  },
  {
   "cell_type": "code",
   "execution_count": 4,
   "id": "7b8851ac",
   "metadata": {},
   "outputs": [
    {
     "data": {
      "text/plain": [
       "'https://image.cnbcfm.com/api/v1/image/107188144-1675355909384-gettyimages-1302154722-dsc_9175.jpeg'"
      ]
     },
     "execution_count": 4,
     "metadata": {},
     "output_type": "execute_result"
    }
   ],
   "source": [
    "nft.nft_uri(5)"
   ]
  },
  {
   "cell_type": "code",
   "execution_count": 5,
   "id": "761a713b",
   "metadata": {},
   "outputs": [],
   "source": [
    "import pandas as pd\n",
    "from pathlib import Path"
   ]
  },
  {
   "cell_type": "code",
   "execution_count": 6,
   "id": "90ce2839",
   "metadata": {},
   "outputs": [
    {
     "name": "stdout",
     "output_type": "stream",
     "text": [
      "https://image.cnbcfm.com/api/v1/image/107185252-16748408932023-01-27t172914z_1524906120_rc24zy96gcgv_rtrmadp_0_tesla-musk.jpeg\n"
     ]
    }
   ],
   "source": [
    "nft_df = pd.read_csv(Path('Resources/nft_store.csv'))\n",
    "nft_dict = dict(zip(nft_df.nft_id, nft_df.nft_uri))\n",
    "value = nft_dict.get(1)\n",
    "print(value)"
   ]
  },
  {
   "cell_type": "code",
   "execution_count": 7,
   "id": "c3c8d3b3",
   "metadata": {},
   "outputs": [
    {
     "data": {
      "text/plain": [
       "5"
      ]
     },
     "execution_count": 7,
     "metadata": {},
     "output_type": "execute_result"
    }
   ],
   "source": [
    "count = len(nft_dict)\n",
    "count"
   ]
  },
  {
   "cell_type": "code",
   "execution_count": null,
   "id": "8a1f50d4",
   "metadata": {},
   "outputs": [],
   "source": []
  }
 ],
 "metadata": {
  "kernelspec": {
   "display_name": "ml",
   "language": "python",
   "name": "python3"
  },
  "language_info": {
   "codemirror_mode": {
    "name": "ipython",
    "version": 3
   },
   "file_extension": ".py",
   "mimetype": "text/x-python",
   "name": "python",
   "nbconvert_exporter": "python",
   "pygments_lexer": "ipython3",
   "version": "3.9.15"
  },
  "vscode": {
   "interpreter": {
    "hash": "139f6b159feb5f54eab54b1944737c72c62569962e92ddcdf86cf64df0c52c16"
   }
  }
 },
 "nbformat": 4,
 "nbformat_minor": 5
}
