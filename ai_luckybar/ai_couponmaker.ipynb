{
 "cells": [
  {
   "cell_type": "code",
   "execution_count": 227,
   "id": "983dfcc6-e520-4f1d-9dea-97d7cb1b4a83",
   "metadata": {},
   "outputs": [],
   "source": [
    "import os \n",
    "from dotenv import load_dotenv\n",
    "import requests \n",
    "import json \n",
    "import pandas as pd\n",
    "from pathlib import Path\n",
    "from csv import writer\n",
    "import csv"
   ]
  },
  {
   "cell_type": "code",
   "execution_count": 228,
   "id": "eea2bf33-98bb-401c-b6b5-c135f753267a",
   "metadata": {},
   "outputs": [
    {
     "data": {
      "text/plain": [
       "True"
      ]
     },
     "execution_count": 228,
     "metadata": {},
     "output_type": "execute_result"
    }
   ],
   "source": [
    "#Verify the .env file can be accessed\n",
    "load_dotenv()"
   ]
  },
  {
   "cell_type": "code",
   "execution_count": 229,
   "id": "3717489f-65fa-4f1c-ad5b-8b17552e12df",
   "metadata": {},
   "outputs": [],
   "source": [
    "#Retrieve the API key\n",
    "api_key = os.getenv('api_key')"
   ]
  },
  {
   "cell_type": "code",
   "execution_count": 230,
   "id": "105c7472-e2f2-4702-9a08-c89ee8718a46",
   "metadata": {},
   "outputs": [],
   "source": [
    "# The API endpoint for the DALL-E API\n",
    "url = \"https://api.openai.com/v1/images/generations\"\n",
    "# The header for the API request\n",
    "headers = {\n",
    "    \"Content-Type\": \"application/json\",\n",
    "    \"Authorization\": f\"Bearer {api_key}\"\n",
    "}\n"
   ]
  },
  {
   "cell_type": "code",
   "execution_count": 231,
   "id": "8b7e1c02-14de-4241-a22d-30f20a4d050c",
   "metadata": {},
   "outputs": [],
   "source": [
    "def generate_seasonal_nft(prompt):\n",
    "    # The JSON data for the API request\n",
    "    data = {\n",
    "        \"model\": \"image-alpha-001\",\n",
    "        \"prompt\": prompt,\n",
    "        \"num_images\":1,\n",
    "        \"size\":\"1024x1024\",\n",
    "        \"response_format\":\"url\"\n",
    "    }\n",
    "\n",
    "    # Make the API request\n",
    "    response = requests.post(url, headers=headers, data=json.dumps(data))\n",
    "\n",
    "    # Check the status code of the response\n",
    "    if response.status_code == 200:\n",
    "        # The request was successful, parse the response JSON\n",
    "        response_json = response.json()\n",
    "        image_url = response_json[\"data\"][0][\"url\"]\n",
    "        return image_url\n",
    "    else:\n",
    "        # The request was unsuccessful, print the error message\n",
    "        print(f\"Error: {response.text}\")"
   ]
  },
  {
   "cell_type": "code",
   "execution_count": 232,
   "id": "81d0722b-951a-4b61-82c3-8a1cea6f92ae",
   "metadata": {},
   "outputs": [
    {
     "name": "stdin",
     "output_type": "stream",
     "text": [
      "What seasonality would you like?:  summer\n",
      "What discount would you like to provide:  20\n",
      "What food do you want displayed?:  mango margarita\n"
     ]
    }
   ],
   "source": [
    "seasonality = input(\"What seasonality would you like?: \")\n",
    "discount = input(\"What discount would you like to provide: \")\n",
    "food = input(\"What food do you want displayed?: \")"
   ]
  },
  {
   "cell_type": "code",
   "execution_count": 233,
   "id": "160d6499-2862-4069-adc0-2843ab804a95",
   "metadata": {},
   "outputs": [],
   "source": [
    "custom_nft = f\"Make restaurant coupons. Make the seasonality {seasonality} themed add the discount {discount}, and display the food {food}.\""
   ]
  },
  {
   "cell_type": "code",
   "execution_count": 234,
   "id": "e6b17681-7456-4545-b9e4-887adde22d30",
   "metadata": {},
   "outputs": [],
   "source": [
    "link = generate_seasonal_nft(custom_nft)"
   ]
  },
  {
   "cell_type": "code",
   "execution_count": 235,
   "id": "16158838-9147-44bc-80d3-86f9fcbef051",
   "metadata": {},
   "outputs": [],
   "source": [
    "list = [link]"
   ]
  },
  {
   "cell_type": "code",
   "execution_count": 236,
   "id": "71c5ff14-4cd9-4822-a0fe-96cc1ce93569",
   "metadata": {},
   "outputs": [],
   "source": [
    "# Open our existing CSV file in append mode\n",
    "# Create a file object for this file\n",
    "with open('./nft_stores.csv', 'a') as f_object:\n",
    " \n",
    "    # Pass this file object to csv.writer()\n",
    "    # and get a writer object\n",
    "    writer_object = writer(f_object)\n",
    " \n",
    "    # Pass the list as an argument into\n",
    "    # the writerow()\n",
    "    writer_object.writerow(list)\n",
    " \n",
    "    # Close the file object\n",
    "    f_object.close()"
   ]
  }
 ],
 "metadata": {
  "kernelspec": {
   "display_name": "Python 3 (ipykernel)",
   "language": "python",
   "name": "python3"
  },
  "language_info": {
   "codemirror_mode": {
    "name": "ipython",
    "version": 3
   },
   "file_extension": ".py",
   "mimetype": "text/x-python",
   "name": "python",
   "nbconvert_exporter": "python",
   "pygments_lexer": "ipython3",
   "version": "3.7.13"
  }
 },
 "nbformat": 4,
 "nbformat_minor": 5
}
